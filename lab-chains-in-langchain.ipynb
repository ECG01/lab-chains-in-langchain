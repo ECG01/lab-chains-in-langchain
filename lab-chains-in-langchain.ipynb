{
 "cells": [
  {
   "cell_type": "markdown",
   "id": "52824b89-532a-4e54-87e9-1410813cd39e",
   "metadata": {},
   "source": [
    "# Lab | Chains in LangChain\n",
    "\n",
    "## Outline\n",
    "\n",
    "* LLMChain\n",
    "* Sequential Chains\n",
    "  * SimpleSequentialChain\n",
    "  * SequentialChain\n",
    "* Router Chain"
   ]
  },
  {
   "cell_type": "code",
   "execution_count": 1,
   "id": "541eb2f1",
   "metadata": {},
   "outputs": [],
   "source": [
    "import warnings\n",
    "warnings.filterwarnings('ignore')"
   ]
  },
  {
   "cell_type": "code",
   "execution_count": 2,
   "id": "b7ed03ed-1322-49e3-b2a2-33e94fb592ef",
   "metadata": {
    "tags": []
   },
   "outputs": [],
   "source": [
    "import os\n",
    "\n",
    "from dotenv import load_dotenv, find_dotenv\n",
    "_ = load_dotenv(find_dotenv())\n",
    "\n",
    "OPENAI_API_KEY  = os.getenv('OPENAI_API_KEY')\n",
    "HUGGINGFACEHUB_API_TOKEN = os.getenv('HUGGINGFACEHUB_API_TOKEN')"
   ]
  },
  {
   "cell_type": "code",
   "execution_count": 5,
   "id": "b84e441b",
   "metadata": {
    "tags": []
   },
   "outputs": [],
   "source": [
    "#!pip install pandas"
   ]
  },
  {
   "cell_type": "code",
   "execution_count": 4,
   "id": "974acf8e-8f88-42de-88f8-40a82cb58e8b",
   "metadata": {
    "tags": []
   },
   "outputs": [],
   "source": [
    "import pandas as pd\n",
    "df = pd.read_csv('./data/Data.csv')"
   ]
  },
  {
   "cell_type": "code",
   "execution_count": 13,
   "id": "b7a09c35",
   "metadata": {
    "tags": []
   },
   "outputs": [
    {
     "data": {
      "text/html": [
       "<div>\n",
       "<style scoped>\n",
       "    .dataframe tbody tr th:only-of-type {\n",
       "        vertical-align: middle;\n",
       "    }\n",
       "\n",
       "    .dataframe tbody tr th {\n",
       "        vertical-align: top;\n",
       "    }\n",
       "\n",
       "    .dataframe thead th {\n",
       "        text-align: right;\n",
       "    }\n",
       "</style>\n",
       "<table border=\"1\" class=\"dataframe\">\n",
       "  <thead>\n",
       "    <tr style=\"text-align: right;\">\n",
       "      <th></th>\n",
       "      <th>Product</th>\n",
       "      <th>Review</th>\n",
       "    </tr>\n",
       "  </thead>\n",
       "  <tbody>\n",
       "    <tr>\n",
       "      <th>0</th>\n",
       "      <td>Queen Size Sheet Set</td>\n",
       "      <td>I ordered a king size set. My only criticism w...</td>\n",
       "    </tr>\n",
       "    <tr>\n",
       "      <th>1</th>\n",
       "      <td>Waterproof Phone Pouch</td>\n",
       "      <td>I loved the waterproof sac, although the openi...</td>\n",
       "    </tr>\n",
       "    <tr>\n",
       "      <th>2</th>\n",
       "      <td>Luxury Air Mattress</td>\n",
       "      <td>This mattress had a small hole in the top of i...</td>\n",
       "    </tr>\n",
       "    <tr>\n",
       "      <th>3</th>\n",
       "      <td>Pillows Insert</td>\n",
       "      <td>This is the best throw pillow fillers on Amazo...</td>\n",
       "    </tr>\n",
       "    <tr>\n",
       "      <th>4</th>\n",
       "      <td>Milk Frother Handheld\\n</td>\n",
       "      <td>I loved this product. But they only seem to l...</td>\n",
       "    </tr>\n",
       "    <tr>\n",
       "      <th>5</th>\n",
       "      <td>L'Or Espresso Café \\n</td>\n",
       "      <td>Je trouve le goût médiocre. La mousse ne tient...</td>\n",
       "    </tr>\n",
       "    <tr>\n",
       "      <th>6</th>\n",
       "      <td>Hervidor de Agua Eléctrico</td>\n",
       "      <td>Está lu bonita calienta muy rápido, es muy fun...</td>\n",
       "    </tr>\n",
       "  </tbody>\n",
       "</table>\n",
       "</div>"
      ],
      "text/plain": [
       "                      Product  \\\n",
       "0        Queen Size Sheet Set   \n",
       "1      Waterproof Phone Pouch   \n",
       "2         Luxury Air Mattress   \n",
       "3              Pillows Insert   \n",
       "4     Milk Frother Handheld\\n   \n",
       "5       L'Or Espresso Café \\n   \n",
       "6  Hervidor de Agua Eléctrico   \n",
       "\n",
       "                                              Review  \n",
       "0  I ordered a king size set. My only criticism w...  \n",
       "1  I loved the waterproof sac, although the openi...  \n",
       "2  This mattress had a small hole in the top of i...  \n",
       "3  This is the best throw pillow fillers on Amazo...  \n",
       "4   I loved this product. But they only seem to l...  \n",
       "5  Je trouve le goût médiocre. La mousse ne tient...  \n",
       "6  Está lu bonita calienta muy rápido, es muy fun...  "
      ]
     },
     "execution_count": 13,
     "metadata": {},
     "output_type": "execute_result"
    }
   ],
   "source": [
    "df"
   ]
  },
  {
   "cell_type": "code",
   "execution_count": 6,
   "id": "84b45a89",
   "metadata": {},
   "outputs": [
    {
     "data": {
      "text/plain": [
       "14"
      ]
     },
     "execution_count": 6,
     "metadata": {},
     "output_type": "execute_result"
    }
   ],
   "source": [
    "df.size"
   ]
  },
  {
   "cell_type": "markdown",
   "id": "b940ce7c",
   "metadata": {},
   "source": [
    "## LLMChain"
   ]
  },
  {
   "cell_type": "code",
   "execution_count": 7,
   "id": "e92dff22",
   "metadata": {
    "tags": []
   },
   "outputs": [],
   "source": [
    "from langchain_openai import ChatOpenAI\n",
    "from langchain.prompts import ChatPromptTemplate\n",
    "from langchain.chains import LLMChain"
   ]
  },
  {
   "cell_type": "code",
   "execution_count": 75,
   "id": "943237a7",
   "metadata": {},
   "outputs": [],
   "source": [
    "#Replace None by your own value and justify\n",
    "llm = ChatOpenAI(temperature= 0.7)\n"
   ]
  },
  {
   "cell_type": "code",
   "execution_count": 76,
   "id": "cdcdb42d",
   "metadata": {},
   "outputs": [],
   "source": [
    "prompt = ChatPromptTemplate.from_template(\n",
    "    \"Please provide a detailed description of a {product}. Include key features and benefits of the review.\"\n",
    ")"
   ]
  },
  {
   "cell_type": "code",
   "execution_count": 77,
   "id": "d7abc20b",
   "metadata": {},
   "outputs": [],
   "source": [
    "\n",
    "chain = LLMChain(llm=llm, prompt=prompt)"
   ]
  },
  {
   "cell_type": "code",
   "execution_count": 78,
   "id": "ad44d1fb",
   "metadata": {},
   "outputs": [
    {
     "data": {
      "text/plain": [
       "'A Waterproof Phone Pouch is a must-have accessory for anyone who wants to protect their phone from water damage while engaging in water-related activities such as swimming, snorkeling, kayaking, or simply relaxing at the beach or by the pool.\\n\\nKey Features:\\n\\n1. Waterproof Material: The pouch is typically made of high-quality, durable PVC or TPU material that is completely waterproof, ensuring that your phone remains dry and functional even when submerged in water.\\n\\n2. Secure Seal: The pouch features a secure seal closure mechanism, such as a zip-lock or snap-lock system, that effectively keeps water out and prevents any leakage.\\n\\n3. Touchscreen Compatibility: The pouch is designed to allow full touchscreen functionality, so you can easily use your phone to take photos, answer calls, or send messages without having to remove it from the pouch.\\n\\n4. Universal Fit: Most waterproof phone pouches are designed to fit a wide range of phone models, including iPhones, Samsung Galaxy phones, and other popular brands.\\n\\n5. Adjustable Lanyard: Many pouches come with an adjustable lanyard that allows you to wear the pouch around your neck or attach it to your bag, making it convenient to carry with you wherever you go.\\n\\nBenefits:\\n\\n1. Protection from Water Damage: The primary benefit of a waterproof phone pouch is that it provides complete protection for your phone against water damage, allowing you to use your phone worry-free in wet or aquatic environments.\\n\\n2. Convenience: With a waterproof phone pouch, you can take your phone with you while swimming, snorkeling, or engaging in other water-related activities without the fear of damaging it.\\n\\n3. Versatility: The pouch is not limited to water-related activities; it can also be used in dusty or sandy environments to keep your phone clean and safe from debris.\\n\\n4. Peace of Mind: By using a waterproof phone pouch, you can have peace of mind knowing that your phone is safe and protected, allowing you to fully enjoy your time in the water without any worries.\\n\\nOverall, a Waterproof Phone Pouch is a practical and essential accessory for anyone who wants to keep their phone safe and functional in water or other challenging environments.'"
      ]
     },
     "execution_count": 78,
     "metadata": {},
     "output_type": "execute_result"
    }
   ],
   "source": [
    "product = \"Waterproof Phone Pouch\"  # Selecting a product from the available data\n",
    "chain.run(product)"
   ]
  },
  {
   "cell_type": "markdown",
   "id": "69b03469",
   "metadata": {},
   "source": [
    "## SimpleSequentialChain"
   ]
  },
  {
   "cell_type": "code",
   "execution_count": 15,
   "id": "febee243",
   "metadata": {},
   "outputs": [],
   "source": [
    "from langchain.chains import SimpleSequentialChain"
   ]
  },
  {
   "cell_type": "code",
   "execution_count": 16,
   "id": "2f31aa8a",
   "metadata": {},
   "outputs": [],
   "source": [
    "llm = ChatOpenAI(temperature=0.9)\n",
    "\n",
    "# prompt template 1\n",
    "first_prompt = ChatPromptTemplate.from_template(\n",
    "    #Repeat the initial query or create a new query that would feed into the second prompt\n",
    "    \"Please provide a concise description of a {product}. Include key features and benefits.\"\n",
    ")\n",
    "\n",
    "# Chain 1\n",
    "chain_one = LLMChain(llm=llm, prompt=first_prompt)"
   ]
  },
  {
   "cell_type": "code",
   "execution_count": 17,
   "id": "3f5d5b76",
   "metadata": {},
   "outputs": [],
   "source": [
    "\n",
    "# prompt template 2\n",
    "second_prompt = ChatPromptTemplate.from_template(\n",
    "    \"Based on the following product description, provide a rating out of 5 stars and explain why: {input}\"\n",
    ")\n",
    "# chain 2\n",
    "chain_two = LLMChain(llm=llm, prompt=second_prompt)"
   ]
  },
  {
   "cell_type": "code",
   "execution_count": 18,
   "id": "6c1eb2c4",
   "metadata": {},
   "outputs": [],
   "source": [
    "overall_simple_chain = SimpleSequentialChain(chains=[chain_one, chain_two],\n",
    "                                             verbose=True\n",
    "                                            )"
   ]
  },
  {
   "cell_type": "code",
   "execution_count": 19,
   "id": "78458efe",
   "metadata": {},
   "outputs": [
    {
     "name": "stdout",
     "output_type": "stream",
     "text": [
      "\n",
      "\n",
      "\u001b[1m> Entering new SimpleSequentialChain chain...\u001b[0m\n",
      "\u001b[36;1m\u001b[1;3mA waterproof phone pouch is a protective case that safeguards your phone from water damage while allowing you to use it in various water-related activities. Key features include a secure seal to keep out water, clear touch-sensitive material for easy phone operation, and a lanyard or strap for added convenience. Benefits include peace of mind knowing your phone is protected, ability to take photos and videos underwater, and versatility for use during beach trips, water sports, or rainy weather.\u001b[0m\n",
      "\u001b[33;1m\u001b[1;3mI would give this product a 5-star rating. The waterproof phone pouch offers excellent protection for your phone from water damage, which is crucial for anyone who enjoys water-related activities. The secure seal ensures your phone stays dry, while the touch-sensitive material allows for easy operation. The added convenience of a lanyard or strap makes it easy to carry around. The ability to take photos and videos underwater is a great feature, and the versatility of being able to use it during various water activities or even in rainy weather is a huge plus. Overall, this product provides peace of mind and great functionality, making it well worth a 5-star rating.\u001b[0m\n",
      "\n",
      "\u001b[1m> Finished chain.\u001b[0m\n"
     ]
    },
    {
     "data": {
      "text/plain": [
       "'I would give this product a 5-star rating. The waterproof phone pouch offers excellent protection for your phone from water damage, which is crucial for anyone who enjoys water-related activities. The secure seal ensures your phone stays dry, while the touch-sensitive material allows for easy operation. The added convenience of a lanyard or strap makes it easy to carry around. The ability to take photos and videos underwater is a great feature, and the versatility of being able to use it during various water activities or even in rainy weather is a huge plus. Overall, this product provides peace of mind and great functionality, making it well worth a 5-star rating.'"
      ]
     },
     "execution_count": 19,
     "metadata": {},
     "output_type": "execute_result"
    }
   ],
   "source": [
    "overall_simple_chain.run(product)"
   ]
  },
  {
   "cell_type": "markdown",
   "id": "0dd59bda-9d02-44e7-b3d6-2bec61b99d8f",
   "metadata": {},
   "source": [
    "**Repeat the above twice for different products**"
   ]
  },
  {
   "cell_type": "markdown",
   "id": "7119ddfc",
   "metadata": {},
   "source": [
    "## Example 1"
   ]
  },
  {
   "cell_type": "code",
   "execution_count": 21,
   "id": "2945f367",
   "metadata": {},
   "outputs": [
    {
     "name": "stdout",
     "output_type": "stream",
     "text": [
      "\n",
      "\n",
      "\u001b[1m> Entering new SimpleSequentialChain chain...\u001b[0m\n",
      "\u001b[36;1m\u001b[1;3mA Queen Size Sheet Set includes a fitted sheet, flat sheet, and two standard pillowcases designed to fit a queen size bed. Key features include a soft and durable fabric, deep pockets for a secure fit on mattresses up to 18 inches thick, and a variety of colors and patterns to match any decor. The benefits of a Queen Size Sheet Set include easy care, machine washable fabric, and a comfortable and luxurious feel for a good night's sleep.\u001b[0m\n",
      "\u001b[33;1m\u001b[1;3mI would give this Queen Size Sheet Set a 5-star rating. It offers a great combination of practical and luxurious features. The soft and durable fabric, deep pockets for a secure fit, and variety of colors and patterns make it versatile and long-lasting. The easy care, machine washable fabric is a huge benefit for busy individuals looking for low maintenance bedding. Overall, this sheet set seems to provide everything one would need for a comfortable and restful night's sleep.\u001b[0m\n",
      "\n",
      "\u001b[1m> Finished chain.\u001b[0m\n"
     ]
    },
    {
     "data": {
      "text/plain": [
       "\"I would give this Queen Size Sheet Set a 5-star rating. It offers a great combination of practical and luxurious features. The soft and durable fabric, deep pockets for a secure fit, and variety of colors and patterns make it versatile and long-lasting. The easy care, machine washable fabric is a huge benefit for busy individuals looking for low maintenance bedding. Overall, this sheet set seems to provide everything one would need for a comfortable and restful night's sleep.\""
      ]
     },
     "execution_count": 21,
     "metadata": {},
     "output_type": "execute_result"
    }
   ],
   "source": [
    "llm = ChatOpenAI(temperature=0.9)\n",
    "\n",
    "# prompt template 1\n",
    "first_prompt = ChatPromptTemplate.from_template(\n",
    "    \"Please provide a concise description of a {product}. Include key features and benefits.\"\n",
    ")\n",
    "\n",
    "# Chain 1\n",
    "chain_one = LLMChain(llm=llm, prompt=first_prompt)\n",
    "\n",
    "# prompt template 2\n",
    "second_prompt = ChatPromptTemplate.from_template(\n",
    "    \"Based on the following product description, provide a rating out of 5 stars and explain why: {input}\"\n",
    ")\n",
    "\n",
    "# chain 2\n",
    "chain_two = LLMChain(llm=llm, prompt=second_prompt)\n",
    "\n",
    "overall_simple_chain = SimpleSequentialChain(chains=[chain_one, chain_two],\n",
    "                                             verbose=True\n",
    "                                            )\n",
    "product = 'Queen Size Sheet Set'\n",
    "overall_simple_chain.run(product)"
   ]
  },
  {
   "cell_type": "markdown",
   "id": "c2dab422",
   "metadata": {},
   "source": [
    "## Example 2"
   ]
  },
  {
   "cell_type": "code",
   "execution_count": 37,
   "id": "96bcea29",
   "metadata": {},
   "outputs": [
    {
     "name": "stdout",
     "output_type": "stream",
     "text": [
      "\n",
      "\n",
      "\u001b[1m> Entering new SimpleSequentialChain chain...\u001b[0m\n",
      "\u001b[36;1m\u001b[1;3mL'Or Espresso Café --> L'Or Espresso Café\u001b[0m\n",
      "\u001b[33;1m\u001b[1;3mL'Or Espresso Café is a premium coffee brand that offers a range of high-quality espresso blends made from carefully selected beans. The key features of this product include its rich and intense flavors, smooth crema, and convenient Nespresso-compatible capsules for easy brewing.\n",
      "\n",
      "The target audience for L'Or Espresso Café is coffee enthusiasts who appreciate a luxurious coffee experience at home or in the office. This product is ideal for those who value convenience but do not want to compromise on taste and quality. With its elegant packaging and sophisticated flavor profiles, L'Or Espresso Café is perfect for those looking to indulge in a gourmet coffee experience.\u001b[0m\n",
      "\u001b[38;5;200m\u001b[1;3m\n",
      "\n",
      "L'Or Espresso Café offers premium espresso blends with rich flavors, smooth crema, and convenient Nespresso-compatible capsules for easy brewing, making it an ideal choice for coffee enthusiasts who value luxury and convenience without compromising on taste and quality.\u001b[0m\n",
      "\u001b[32;1m\u001b[1;3mL'Or Espresso Café ofrece mezclas premium de espresso con sabores intensos, crema suave y cápsulas compatibles con Nespresso para una preparación fácil, convirtiéndose en la elección ideal para los entusiastas del café que valoran el lujo y la conveniencia sin comprometer el sabor y la calidad.\u001b[0m\n",
      "\u001b[31;1m\u001b[1;3m¡Descubre la excelencia del café con L'Or Espresso Café! Nuestras mezclas premium te brindan sabores intensos y una crema suave en cada taza. Con cápsulas compatibles con Nespresso, disfrutarás de una preparación fácil y rápida. Para los amantes del café que buscan lujo y conveniencia sin sacrificar el sabor y la calidad, L'Or Espresso es la elección perfecta. ¡Eleva tu experiencia cafetera con nosotros!\u001b[0m\n",
      "\u001b[36;1m\u001b[1;3mCompetitive Analysis: L'Or Espresso Café competes directly with other premium coffee brands that offer Nespresso-compatible capsules, such as Nespresso itself, Nescafe Dolce Gusto, and Starbucks. L'Or Espresso stands out for its focus on providing a luxurious coffee experience with intense flavors and smooth crema.\n",
      "\n",
      "Suggested Retail Price Range: The suggested retail price range for L'Or Espresso Café capsules can vary depending on the specific blend and quantity. However, a typical range for a pack of 10 capsules is between $5.99 to $7.99. This pricing strategy positions L'Or Espresso as a premium brand that is still accessible to consumers looking for high-quality coffee without breaking the bank.\u001b[0m\n",
      "\u001b[33;1m\u001b[1;3mI would rate L'Or Espresso Café capsules a 4 out of 5 stars. \n",
      "\n",
      "Quality: L'Or Espresso Café capsules are known for their high-quality coffee blends that offer intense flavors and smooth crema. The brand focuses on providing a luxurious coffee experience, which sets them apart from their competitors. \n",
      "\n",
      "Features: The Nespresso-compatible capsules are convenient and easy to use, making it simple for consumers to enjoy a premium cup of coffee at home. The variety of blends available also caters to different taste preferences, giving customers options to choose from. \n",
      "\n",
      "Value for Money: While L'Or Espresso Café capsules are positioned as a premium brand, the suggested retail price range of $5.99 to $7.99 for a pack of 10 capsules is reasonable for the quality of coffee they provide. Customers looking for a high-quality coffee experience may find the price worth it.\n",
      "\n",
      "Target Audience Satisfaction: L'Or Espresso Café caters to consumers who appreciate premium coffee and are willing to pay a bit more for a luxurious coffee experience. The brand's focus on intense flavors and smooth crema resonates with coffee enthusiasts who are looking for a high-quality product.\n",
      "\n",
      "Overall, L'Or Espresso Café capsules offer a great balance of quality, features, and value for money, making them a solid choice for consumers looking for a premium coffee experience at home.\u001b[0m\n",
      "\n",
      "\u001b[1m> Finished chain.\u001b[0m\n"
     ]
    },
    {
     "data": {
      "text/plain": [
       "\"I would rate L'Or Espresso Café capsules a 4 out of 5 stars. \\n\\nQuality: L'Or Espresso Café capsules are known for their high-quality coffee blends that offer intense flavors and smooth crema. The brand focuses on providing a luxurious coffee experience, which sets them apart from their competitors. \\n\\nFeatures: The Nespresso-compatible capsules are convenient and easy to use, making it simple for consumers to enjoy a premium cup of coffee at home. The variety of blends available also caters to different taste preferences, giving customers options to choose from. \\n\\nValue for Money: While L'Or Espresso Café capsules are positioned as a premium brand, the suggested retail price range of $5.99 to $7.99 for a pack of 10 capsules is reasonable for the quality of coffee they provide. Customers looking for a high-quality coffee experience may find the price worth it.\\n\\nTarget Audience Satisfaction: L'Or Espresso Café caters to consumers who appreciate premium coffee and are willing to pay a bit more for a luxurious coffee experience. The brand's focus on intense flavors and smooth crema resonates with coffee enthusiasts who are looking for a high-quality product.\\n\\nOverall, L'Or Espresso Café capsules offer a great balance of quality, features, and value for money, making them a solid choice for consumers looking for a premium coffee experience at home.\""
      ]
     },
     "execution_count": 37,
     "metadata": {},
     "output_type": "execute_result"
    }
   ],
   "source": [
    "#Replace None by your own value and justify\n",
    "llm = ChatOpenAI(temperature=0.7)  # Using 0.7 for a balance between creativity and consistency\n",
    "\n",
    "# First translate any non-English text\n",
    "first_prompt = ChatPromptTemplate.from_template(\n",
    "    \"\"\"Translate the following product name and any associated text to English if it's not already in English: {product}\n",
    "    If it's already in English, return it unchanged.\"\"\"\n",
    ")\n",
    "\n",
    "chain_one = LLMChain(llm=llm, prompt=first_prompt,\n",
    "                     output_key=\"english_product\"\n",
    "                    )\n",
    "\n",
    "# Then analyze the English product text\n",
    "second_prompt = ChatPromptTemplate.from_template(\n",
    "    \"\"\"Analyze this product: {english_product}\n",
    "    Provide a consice description including key features and target audience.\"\"\"\n",
    ")\n",
    "\n",
    "chain_two = LLMChain(llm=llm, prompt=second_prompt, \n",
    "                     output_key=\"product_analysis\"\n",
    "                    )\n",
    "\n",
    "third_prompt = ChatPromptTemplate.from_template(\n",
    "    \"Summarize the key selling points of this product in 1-2 sentences: {product_analysis}\"\n",
    ")\n",
    "\n",
    "chain_three = LLMChain(llm=llm, prompt=third_prompt,\n",
    "                       output_key=\"summary\"\n",
    "                      )\n",
    "\n",
    "fourth_prompt = ChatPromptTemplate.from_template(\n",
    "    \"\"\"Based on this product analysis: {product_analysis}\n",
    "    Translate the product description to Spanish to reach more customers\"\"\"\n",
    ")\n",
    "\n",
    "chain_four = LLMChain(llm=llm, prompt=fourth_prompt,\n",
    "                      output_key=\"spanish_description\"\n",
    "                     )\n",
    "\n",
    "fifth_prompt = ChatPromptTemplate.from_template(\n",
    "    \"\"\"Based on this product summary: {summary}\n",
    "    Write a compelling marketing message that highlights the main benefits.\"\"\"\n",
    ")\n",
    "\n",
    "chain_five = LLMChain(llm=llm, prompt=fifth_prompt,\n",
    "                      output_key=\"marketing_message\"\n",
    "                     )\n",
    "\n",
    "sixth_prompt = ChatPromptTemplate.from_template(\n",
    "    \"\"\"Based on the product analysis: {product_analysis}\n",
    "    Provide a competitive analysis and suggested retail price range.\"\"\"\n",
    ")\n",
    "\n",
    "chain_six = LLMChain(llm=llm, prompt=sixth_prompt,\n",
    "                     output_key=\"pricing_analysis\"\n",
    "                    )\n",
    "\n",
    "seventh_prompt = ChatPromptTemplate.from_template(\n",
    "    \"\"\"Based on the product analysis: {product_analysis}\n",
    "    Rate this product on a scale of 1-5 stars and provide a detailed justification for the rating.\n",
    "    Consider factors like quality, features, value for money, and target audience satisfaction.\"\"\"\n",
    ")\n",
    "\n",
    "chain_seven = LLMChain(llm=llm, prompt=seventh_prompt,\n",
    "                      output_key=\"product_rating\"\n",
    "                     )\n",
    "\n",
    "# Set up the overall chain\n",
    "overall_chain = SimpleSequentialChain(\n",
    "    chains=[chain_one, chain_two, chain_three, chain_four, chain_five, chain_six, chain_seven],\n",
    "    verbose=True\n",
    ")\n",
    "\n",
    "product = \"L'Or Espresso Café\"  # Using a product from the dataset\n",
    "overall_chain.run(product)\n"
   ]
  },
  {
   "cell_type": "markdown",
   "id": "7b5ce18c",
   "metadata": {},
   "source": [
    "## SequentialChain"
   ]
  },
  {
   "cell_type": "code",
   "execution_count": 44,
   "id": "4c129ef6",
   "metadata": {},
   "outputs": [],
   "source": [
    "from langchain.chains import SequentialChain"
   ]
  },
  {
   "cell_type": "code",
   "execution_count": 45,
   "id": "016187ac",
   "metadata": {},
   "outputs": [],
   "source": [
    "llm = ChatOpenAI(temperature=0.9)\n",
    "\n",
    "\n",
    "first_prompt = ChatPromptTemplate.from_template(\n",
    "    \"\"\"You are a professional translator.\n",
    "    Please translate this review to English if it's not already in English.\n",
    "    If it's already in English, return it unchanged.\n",
    "    \n",
    "    Review: {review}\"\"\"\n",
    ")\n",
    "\n",
    "chain_one = LLMChain(llm=llm, prompt=first_prompt, \n",
    "                     output_key=\"english_review\" #Give a name to your output\n",
    "                    )\n"
   ]
  },
  {
   "cell_type": "code",
   "execution_count": 46,
   "id": "0fb0730e",
   "metadata": {},
   "outputs": [],
   "source": [
    "second_prompt = ChatPromptTemplate.from_template(\n",
    "    \"\"\"You are a professional review analyst.\n",
    "    Please provide a concise summary of this review in 1-2 sentences.\n",
    "    \n",
    "    Review: {english_review}\"\"\"\n",
    ")\n",
    "\n",
    "chain_two = LLMChain(llm=llm, prompt=second_prompt, \n",
    "                     output_key=\"review_summary\"\n",
    "                    )\n"
   ]
  },
  {
   "cell_type": "code",
   "execution_count": 47,
   "id": "6accf92d",
   "metadata": {},
   "outputs": [],
   "source": [
    "# prompt template 3: translate summary back to original language\n",
    "third_prompt = ChatPromptTemplate.from_template(\n",
    "    \"\"\"You are a professional translator.\n",
    "    Please translate this review summary to the original language of the review.\n",
    "    If the original review was in English, return it unchanged.\n",
    "    \n",
    "    Review Summary: {review_summary}\"\"\"\n",
    ")\n",
    "# chain 3: input = review_summary, output = translated_summary \n",
    "chain_three = LLMChain(llm=llm, prompt=third_prompt,\n",
    "                       output_key=\"translated_summary\"\n",
    "                      )\n"
   ]
  },
  {
   "cell_type": "code",
   "execution_count": 48,
   "id": "c7a46121",
   "metadata": {},
   "outputs": [],
   "source": [
    "\n",
    "# prompt template 4: follow up message that take as inputs the two previous prompts' variables\n",
    "fourth_prompt = ChatPromptTemplate.from_template(\n",
    "    \"\"\"You are a helpful customer service agent.\n",
    "    Based on the original review and its summary, write a brief follow-up message to the customer.\n",
    "    Thank them for their review and address their main points.\n",
    "    \n",
    "    Original Review: {english_review}\n",
    "    Review Summary: {review_summary}\"\"\"\n",
    ")\n",
    "chain_four = LLMChain(llm=llm, prompt=fourth_prompt,\n",
    "                      output_key=\"followup_message\"\n",
    "                     )\n"
   ]
  },
  {
   "cell_type": "code",
   "execution_count": 49,
   "id": "89603117",
   "metadata": {},
   "outputs": [],
   "source": [
    "# overall_chain: input= Review \n",
    "# and output= English_Review,summary, followup_message\n",
    "overall_chain = SequentialChain(\n",
    "    chains=[chain_one, chain_two, chain_three, chain_four],\n",
    "    input_variables=[\"review\"],\n",
    "    output_variables=[\"english_review\", \"review_summary\", \"followup_message\"],\n",
    "    verbose=True\n",
    ")"
   ]
  },
  {
   "cell_type": "code",
   "execution_count": 50,
   "id": "51b04f45",
   "metadata": {},
   "outputs": [
    {
     "name": "stdout",
     "output_type": "stream",
     "text": [
      "Je trouve le goût médiocre. La mousse ne tient pas, c'est bizarre. J'achète les mêmes dans le commerce et le goût est bien meilleur...\n",
      "Vieux lot ou contrefaçon !?\n",
      "\n",
      "\n",
      "\u001b[1m> Entering new SequentialChain chain...\u001b[0m\n",
      "\n",
      "\u001b[1m> Finished chain.\u001b[0m\n"
     ]
    },
    {
     "data": {
      "text/plain": [
       "{'review': \"Je trouve le goût médiocre. La mousse ne tient pas, c'est bizarre. J'achète les mêmes dans le commerce et le goût est bien meilleur...\\nVieux lot ou contrefaçon !?\",\n",
       " 'english_review': \"Review: I find the taste mediocre. The foam doesn't last, it's weird. I buy the same ones in stores and the taste is much better... Old batch or counterfeit!?\",\n",
       " 'review_summary': \"The reviewer is dissatisfied with the taste of the product, noting that the foam doesn't last and suspects it may be an old batch or counterfeit compared to similar products purchased in stores.\",\n",
       " 'followup_message': 'Dear valued customer,\\n\\nThank you for taking the time to leave a review. We apologize that you found the taste of our product to be mediocre and that the foam did not last as expected. We can assure you that our products are not old batches or counterfeit, but we would like to investigate further to ensure the quality of our products meets our standards. Please reach out to our customer service team with more details so we can address your concerns promptly. Thank you for bringing this to our attention.\\n\\nBest regards,\\n[Your Name]\\nCustomer Service Team'}"
      ]
     },
     "execution_count": 50,
     "metadata": {},
     "output_type": "execute_result"
    }
   ],
   "source": [
    "review = df.Review[5]\n",
    "print(review)\n",
    "\n",
    "overall_chain(review)"
   ]
  },
  {
   "cell_type": "markdown",
   "id": "3187cf07-458a-4226-bec7-3dec7ee47af2",
   "metadata": {},
   "source": [
    "**Repeat the above twice for different products or reviews**"
   ]
  },
  {
   "cell_type": "markdown",
   "id": "e7425573",
   "metadata": {},
   "source": [
    "## Example 1"
   ]
  },
  {
   "cell_type": "code",
   "execution_count": 51,
   "id": "4db7ca55",
   "metadata": {},
   "outputs": [
    {
     "name": "stdout",
     "output_type": "stream",
     "text": [
      "Está lu bonita calienta muy rápido, es muy funcional, solo falta ver cuánto dura, solo llevo 3 días en funcionamiento.\n",
      "\n",
      "\n",
      "\u001b[1m> Entering new SequentialChain chain...\u001b[0m\n",
      "\n",
      "\u001b[1m> Finished chain.\u001b[0m\n"
     ]
    },
    {
     "data": {
      "text/plain": [
       "{'review': 'Está lu bonita calienta muy rápido, es muy funcional, solo falta ver cuánto dura, solo llevo 3 días en funcionamiento.',\n",
       " 'english_review': \"Review: The heater is very pretty and heats up very quickly, it is very functional, just need to see how long it lasts, I've only been using it for 3 days.\",\n",
       " 'review_summary': 'The reviewer finds the heater aesthetically pleasing and effective in heating up quickly, but is uncertain about its longevity after only 3 days of use.',\n",
       " 'followup_message': 'Dear valued customer,\\n\\nThank you for taking the time to leave a review of our heater. We are delighted to hear that you find it aesthetically pleasing and that it heats up quickly. We understand your concern about its longevity after only 3 days of use. Rest assured, our products are designed to be durable and long-lasting. If you have any issues or questions in the future, please do not hesitate to reach out to us.\\n\\nThank you for choosing our heater!\\n\\nWarm regards,\\n[Your Name]  \\nCustomer Service Team'}"
      ]
     },
     "execution_count": 51,
     "metadata": {},
     "output_type": "execute_result"
    }
   ],
   "source": [
    "review = df.Review[6]\n",
    "print(review)\n",
    "\n",
    "\n",
    "overall_chain(review)"
   ]
  },
  {
   "cell_type": "markdown",
   "id": "d7a95de9",
   "metadata": {},
   "source": [
    "## Example 2"
   ]
  },
  {
   "cell_type": "code",
   "execution_count": 52,
   "id": "faa38b89",
   "metadata": {},
   "outputs": [
    {
     "name": "stdout",
     "output_type": "stream",
     "text": [
      " I loved this product. But they only seem to last a few months. The company was great replacing the first one (the frother falls out of the handle and can't be fixed). The after 4 months my second one did the same. I only use the frother for coffee once a day. It's not overuse or abuse. I'm very disappointed and will look for another. As I understand they will only replace once. Anyway, if you have one good luck.\n",
      "\n",
      "\n",
      "\u001b[1m> Entering new SequentialChain chain...\u001b[0m\n",
      "\n",
      "\u001b[1m> Finished chain.\u001b[0m\n"
     ]
    },
    {
     "data": {
      "text/plain": [
       "{'review': \"\\xa0I loved this product. But they only seem to last a few months. The company was great replacing the first one (the frother falls out of the handle and can't be fixed). The after 4 months my second one did the same. I only use the frother for coffee once a day. It's not overuse or abuse. I'm very disappointed and will look for another. As I understand they will only replace once. Anyway, if you have one good luck.\",\n",
       " 'english_review': \"Review: I loved this product. But they only seem to last a few months. The company was great replacing the first one (the frother falls out of the handle and can't be fixed). The after 4 months my second one did the same. I only use the frother for coffee once a day. It's not overuse or abuse. I'm very disappointed and will look for another. As I understand they will only replace once. Anyway, if you have one good luck.\",\n",
       " 'review_summary': 'The reviewer enjoyed the product initially but found that it stopped working after a few months, even with limited use. They were disappointed with the quality and customer service, ultimately deciding to look for a different product.',\n",
       " 'followup_message': \"Dear valued customer,\\n\\nThank you for taking the time to share your feedback with us. We are glad to hear that you initially enjoyed our product, and we apologize for the inconvenience you experienced with the frother handle issue. We understand your disappointment and frustration with the product's durability and the customer service provided.\\n\\nWe strive to offer high-quality products and excellent customer service, and we sincerely apologize for falling short of your expectations. Your feedback is important to us, and we will take it into consideration to improve our products and services in the future.\\n\\nIf you have any further questions or concerns, please don't hesitate to reach out to us. We appreciate your business and hope to have the opportunity to serve you better in the future.\\n\\nBest regards,\\n[Your Name] Customer Service Team\"}"
      ]
     },
     "execution_count": 52,
     "metadata": {},
     "output_type": "execute_result"
    }
   ],
   "source": [
    "review = df.Review[4]\n",
    "print(review)\n",
    "\n",
    "\n",
    "overall_chain(review)"
   ]
  },
  {
   "cell_type": "markdown",
   "id": "3041ea4c",
   "metadata": {},
   "source": [
    "## Router Chain"
   ]
  },
  {
   "cell_type": "code",
   "execution_count": 53,
   "id": "ade83f4f",
   "metadata": {},
   "outputs": [],
   "source": [
    "physics_template = \"\"\"You are a very smart physics professor. \\\n",
    "You are great at answering questions about physics in a concise\\\n",
    "and easy to understand manner. \\\n",
    "When you don't know the answer to a question you admit\\\n",
    "that you don't know.\n",
    "\n",
    "Here is a question:\n",
    "{input}\"\"\"\n",
    "\n",
    "\n",
    "math_template = \"\"\"You are a very good mathematician. \\\n",
    "You are great at answering math questions. \\\n",
    "You are so good because you are able to break down \\\n",
    "hard problems into their component parts, \n",
    "answer the component parts, and then put them together\\\n",
    "to answer the broader question.\n",
    "\n",
    "Here is a question:\n",
    "{input}\"\"\"\n",
    "\n",
    "history_template = \"\"\"You are a very good historian. \\\n",
    "You have an excellent knowledge of and understanding of people,\\\n",
    "events and contexts from a range of historical periods. \\\n",
    "You have the ability to think, reflect, debate, discuss and \\\n",
    "evaluate the past. You have a respect for historical evidence\\\n",
    "and the ability to make use of it to support your explanations \\\n",
    "and judgements.\n",
    "\n",
    "Here is a question:\n",
    "{input}\"\"\"\n",
    "\n",
    "\n",
    "computerscience_template = \"\"\" You are a successful computer scientist.\\\n",
    "You have a passion for creativity, collaboration,\\\n",
    "forward-thinking, confidence, strong problem-solving capabilities,\\\n",
    "understanding of theories and algorithms, and excellent communication \\\n",
    "skills. You are great at answering coding questions. \\\n",
    "You are so good because you know how to solve a problem by \\\n",
    "describing the solution in imperative steps \\\n",
    "that a machine can easily interpret and you know how to \\\n",
    "choose a solution that has a good balance between \\\n",
    "time complexity and space complexity. \n",
    "\n",
    "Here is a question:\n",
    "{input}\"\"\""
   ]
  },
  {
   "cell_type": "code",
   "execution_count": 54,
   "id": "5f590e9f",
   "metadata": {},
   "outputs": [],
   "source": [
    "prompt_infos = [\n",
    "    {\n",
    "        \"name\": \"physics\", \n",
    "        \"description\": \"Good for answering questions about physics\", \n",
    "        \"prompt_template\": physics_template\n",
    "    },\n",
    "    {\n",
    "        \"name\": \"math\", \n",
    "        \"description\": \"Good for answering math questions\", \n",
    "        \"prompt_template\": math_template\n",
    "    },\n",
    "    {\n",
    "        \"name\": \"History\", \n",
    "        \"description\": \"Good for answering history questions\", \n",
    "        \"prompt_template\": history_template\n",
    "    },\n",
    "    {\n",
    "        \"name\": \"computer science\", \n",
    "        \"description\": \"Good for answering computer science questions\", \n",
    "        \"prompt_template\": computerscience_template\n",
    "    }\n",
    "]"
   ]
  },
  {
   "cell_type": "code",
   "execution_count": 55,
   "id": "31b06fc8",
   "metadata": {},
   "outputs": [],
   "source": [
    "from langchain.chains.router import MultiPromptChain\n",
    "from langchain.chains.router.llm_router import LLMRouterChain,RouterOutputParser\n",
    "from langchain.prompts import PromptTemplate"
   ]
  },
  {
   "cell_type": "code",
   "execution_count": 56,
   "id": "f3f50bcc",
   "metadata": {},
   "outputs": [],
   "source": [
    "llm = ChatOpenAI(temperature=0)"
   ]
  },
  {
   "cell_type": "code",
   "execution_count": 58,
   "id": "8eefec24",
   "metadata": {},
   "outputs": [],
   "source": [
    "# This loop creates a dictionary of LLMChains for different subject areas (physics, math, history, etc)\n",
    "# Each chain is configured with a specific prompt template for that subject\n",
    "destination_chains = {}\n",
    "for p_info in prompt_infos:\n",
    "    name = p_info[\"name\"]  # Get subject name (e.g. \"physics\", \"math\")\n",
    "    prompt_template = p_info[\"prompt_template\"]  # Get the prompt template for this subject\n",
    "    prompt = ChatPromptTemplate.from_template(template=prompt_template)  # Create prompt from template\n",
    "    chain = LLMChain(llm=llm, prompt=prompt)  # Create chain with prompt and language model\n",
    "    destination_chains[name] = chain  # Add chain to dictionary with subject name as key\n",
    "    \n",
    "# Create formatted strings describing each subject chain for the router template\n",
    "destinations = [f\"{p['name']}: {p['description']}\" for p in prompt_infos]\n",
    "destinations_str = \"\\n\".join(destinations)  # Join descriptions with newlines"
   ]
  },
  {
   "cell_type": "code",
   "execution_count": 71,
   "id": "20ed72c1",
   "metadata": {},
   "outputs": [
    {
     "data": {
      "text/plain": [
       "['physics: Good for answering questions about physics',\n",
       " 'math: Good for answering math questions',\n",
       " 'History: Good for answering history questions',\n",
       " 'computer science: Good for answering computer science questions']"
      ]
     },
     "execution_count": 71,
     "metadata": {},
     "output_type": "execute_result"
    }
   ],
   "source": [
    "destinations"
   ]
  },
  {
   "cell_type": "markdown",
   "id": "bd2bb476",
   "metadata": {},
   "source": [
    "The dictionary approach is used here for the Router Chain pattern, which acts like a \"traffic director\" for different types of questions. Here's why this approach is useful:\n",
    "Organization and Access:\n",
    "The dictionary structure allows quick lookup of the appropriate chain based on the subject\n",
    "Instead of having multiple if/else statements, we can directly access the right chain using destination_chains[\"physics\"] or destination_chains[\"math\"]"
   ]
  },
  {
   "cell_type": "code",
   "execution_count": 59,
   "id": "9f98018a",
   "metadata": {},
   "outputs": [],
   "source": [
    "default_prompt = ChatPromptTemplate.from_template(\"{input}\")\n",
    "default_chain = LLMChain(llm=llm, prompt=default_prompt)"
   ]
  },
  {
   "cell_type": "code",
   "execution_count": 62,
   "id": "11b2e2ba",
   "metadata": {},
   "outputs": [],
   "source": [
    "MULTI_PROMPT_ROUTER_TEMPLATE = \"\"\"Given a raw text input to a \\\n",
    "language model select the model prompt best suited for the input. \\\n",
    "You will be given the names of the available prompts and a \\\n",
    "description of what the prompt is best suited for. \\\n",
    "You may also revise the original input if you think that revising\\\n",
    "it will ultimately lead to a better response from the language model.\n",
    "\n",
    "<< FORMATTING >>\n",
    "Return a markdown code snippet with a JSON object formatted to look like:\n",
    "```json\n",
    "{{{{\n",
    "    \"destination\": string \\ name of the prompt to use or \"DEFAULT\"\n",
    "    \"next_inputs\": string \\ a potentially modified version of the original input\n",
    "}}}}\n",
    "```\n",
    "\n",
    "REMEMBER: \"destination\" MUST be one of the candidate prompt \\\n",
    "names specified below OR it can be \"DEFAULT\" if the input is not\\\n",
    "well suited for any of the candidate prompts.\n",
    "REMEMBER: \"next_inputs\" can just be the original input \\\n",
    "if you don't think any modifications are needed.\n",
    "\n",
    "<< CANDIDATE PROMPTS >>\n",
    "{destinations}\n",
    "\n",
    "<< INPUT >>\n",
    "{{input}}\n",
    "\n",
    "<< OUTPUT (remember to include the ```json)>>\"\"\""
   ]
  },
  {
   "cell_type": "code",
   "execution_count": 63,
   "id": "1387109d",
   "metadata": {},
   "outputs": [],
   "source": [
    "router_template = MULTI_PROMPT_ROUTER_TEMPLATE.format(\n",
    "    destinations=destinations_str\n",
    ")\n",
    "router_prompt = PromptTemplate(\n",
    "    template=router_template,\n",
    "    input_variables=[\"input\"],\n",
    "    output_parser=RouterOutputParser(),\n",
    ")\n",
    "\n",
    "router_chain = LLMRouterChain.from_llm(llm, router_prompt)"
   ]
  },
  {
   "cell_type": "code",
   "execution_count": 64,
   "id": "2fb7d560",
   "metadata": {},
   "outputs": [
    {
     "name": "stderr",
     "output_type": "stream",
     "text": [
      "C:\\Users\\edwar\\AppData\\Local\\Temp\\ipykernel_35520\\3038952769.py:1: LangChainDeprecationWarning: Please see migration guide here for recommended implementation: https://python.langchain.com/docs/versions/migrating_chains/multi_prompt_chain/\n",
      "  chain = MultiPromptChain(router_chain=router_chain,\n"
     ]
    }
   ],
   "source": [
    "chain = MultiPromptChain(router_chain=router_chain, \n",
    "                         destination_chains=destination_chains, \n",
    "                         default_chain=default_chain, verbose=True\n",
    "                        )"
   ]
  },
  {
   "cell_type": "code",
   "execution_count": 65,
   "id": "d86b2131",
   "metadata": {},
   "outputs": [
    {
     "name": "stdout",
     "output_type": "stream",
     "text": [
      "\n",
      "\n",
      "\u001b[1m> Entering new MultiPromptChain chain...\u001b[0m\n",
      "physics: {'input': 'What is black body radiation?'}\n",
      "\u001b[1m> Finished chain.\u001b[0m\n"
     ]
    },
    {
     "data": {
      "text/plain": [
       "\"Black body radiation refers to the electromagnetic radiation emitted by a perfect black body, which is an idealized physical body that absorbs all incident electromagnetic radiation and emits radiation at all frequencies. The radiation emitted by a black body is characterized by a continuous spectrum of wavelengths and intensities that depend only on the temperature of the body. This phenomenon is described by Planck's law, which states that the intensity of radiation emitted by a black body is a function of its temperature and the wavelength of the radiation. Black body radiation plays a key role in understanding the behavior of objects at high temperatures and in the field of thermal radiation.\""
      ]
     },
     "execution_count": 65,
     "metadata": {},
     "output_type": "execute_result"
    }
   ],
   "source": [
    "chain.run(\"What is black body radiation?\")"
   ]
  },
  {
   "cell_type": "code",
   "execution_count": 66,
   "id": "3b717379",
   "metadata": {},
   "outputs": [
    {
     "name": "stdout",
     "output_type": "stream",
     "text": [
      "\n",
      "\n",
      "\u001b[1m> Entering new MultiPromptChain chain...\u001b[0m\n",
      "math: {'input': 'what is 2 + 2'}\n",
      "\u001b[1m> Finished chain.\u001b[0m\n"
     ]
    },
    {
     "data": {
      "text/plain": [
       "'The answer to 2 + 2 is 4.'"
      ]
     },
     "execution_count": 66,
     "metadata": {},
     "output_type": "execute_result"
    }
   ],
   "source": [
    "chain.run(\"what is 2 + 2\")"
   ]
  },
  {
   "cell_type": "code",
   "execution_count": 67,
   "id": "29e5be01",
   "metadata": {},
   "outputs": [
    {
     "name": "stdout",
     "output_type": "stream",
     "text": [
      "\n",
      "\n",
      "\u001b[1m> Entering new MultiPromptChain chain...\u001b[0m\n",
      "biology: {'input': 'Why does every cell in our body contain DNA?'}"
     ]
    },
    {
     "ename": "ValueError",
     "evalue": "Received invalid destination chain name 'biology'",
     "output_type": "error",
     "traceback": [
      "\u001b[1;31m---------------------------------------------------------------------------\u001b[0m",
      "\u001b[1;31mValueError\u001b[0m                                Traceback (most recent call last)",
      "Cell \u001b[1;32mIn[67], line 1\u001b[0m\n\u001b[1;32m----> 1\u001b[0m \u001b[43mchain\u001b[49m\u001b[38;5;241;43m.\u001b[39;49m\u001b[43mrun\u001b[49m\u001b[43m(\u001b[49m\u001b[38;5;124;43m\"\u001b[39;49m\u001b[38;5;124;43mWhy does every cell in our body contain DNA?\u001b[39;49m\u001b[38;5;124;43m\"\u001b[39;49m\u001b[43m)\u001b[49m\n",
      "File \u001b[1;32mc:\\Users\\edwar\\anaconda3\\envs\\py_gpu\\lib\\site-packages\\langchain_core\\_api\\deprecation.py:182\u001b[0m, in \u001b[0;36mdeprecated.<locals>.deprecate.<locals>.warning_emitting_wrapper\u001b[1;34m(*args, **kwargs)\u001b[0m\n\u001b[0;32m    180\u001b[0m     warned \u001b[38;5;241m=\u001b[39m \u001b[38;5;28;01mTrue\u001b[39;00m\n\u001b[0;32m    181\u001b[0m     emit_warning()\n\u001b[1;32m--> 182\u001b[0m \u001b[38;5;28;01mreturn\u001b[39;00m wrapped(\u001b[38;5;241m*\u001b[39margs, \u001b[38;5;241m*\u001b[39m\u001b[38;5;241m*\u001b[39mkwargs)\n",
      "File \u001b[1;32mc:\\Users\\edwar\\anaconda3\\envs\\py_gpu\\lib\\site-packages\\langchain\\chains\\base.py:606\u001b[0m, in \u001b[0;36mChain.run\u001b[1;34m(self, callbacks, tags, metadata, *args, **kwargs)\u001b[0m\n\u001b[0;32m    604\u001b[0m     \u001b[38;5;28;01mif\u001b[39;00m \u001b[38;5;28mlen\u001b[39m(args) \u001b[38;5;241m!=\u001b[39m \u001b[38;5;241m1\u001b[39m:\n\u001b[0;32m    605\u001b[0m         \u001b[38;5;28;01mraise\u001b[39;00m \u001b[38;5;167;01mValueError\u001b[39;00m(\u001b[38;5;124m\"\u001b[39m\u001b[38;5;124m`run` supports only one positional argument.\u001b[39m\u001b[38;5;124m\"\u001b[39m)\n\u001b[1;32m--> 606\u001b[0m     \u001b[38;5;28;01mreturn\u001b[39;00m \u001b[38;5;28;43mself\u001b[39;49m\u001b[43m(\u001b[49m\u001b[43margs\u001b[49m\u001b[43m[\u001b[49m\u001b[38;5;241;43m0\u001b[39;49m\u001b[43m]\u001b[49m\u001b[43m,\u001b[49m\u001b[43m \u001b[49m\u001b[43mcallbacks\u001b[49m\u001b[38;5;241;43m=\u001b[39;49m\u001b[43mcallbacks\u001b[49m\u001b[43m,\u001b[49m\u001b[43m \u001b[49m\u001b[43mtags\u001b[49m\u001b[38;5;241;43m=\u001b[39;49m\u001b[43mtags\u001b[49m\u001b[43m,\u001b[49m\u001b[43m \u001b[49m\u001b[43mmetadata\u001b[49m\u001b[38;5;241;43m=\u001b[39;49m\u001b[43mmetadata\u001b[49m\u001b[43m)\u001b[49m[\n\u001b[0;32m    607\u001b[0m         _output_key\n\u001b[0;32m    608\u001b[0m     ]\n\u001b[0;32m    610\u001b[0m \u001b[38;5;28;01mif\u001b[39;00m kwargs \u001b[38;5;129;01mand\u001b[39;00m \u001b[38;5;129;01mnot\u001b[39;00m args:\n\u001b[0;32m    611\u001b[0m     \u001b[38;5;28;01mreturn\u001b[39;00m \u001b[38;5;28mself\u001b[39m(kwargs, callbacks\u001b[38;5;241m=\u001b[39mcallbacks, tags\u001b[38;5;241m=\u001b[39mtags, metadata\u001b[38;5;241m=\u001b[39mmetadata)[\n\u001b[0;32m    612\u001b[0m         _output_key\n\u001b[0;32m    613\u001b[0m     ]\n",
      "File \u001b[1;32mc:\\Users\\edwar\\anaconda3\\envs\\py_gpu\\lib\\site-packages\\langchain_core\\_api\\deprecation.py:182\u001b[0m, in \u001b[0;36mdeprecated.<locals>.deprecate.<locals>.warning_emitting_wrapper\u001b[1;34m(*args, **kwargs)\u001b[0m\n\u001b[0;32m    180\u001b[0m     warned \u001b[38;5;241m=\u001b[39m \u001b[38;5;28;01mTrue\u001b[39;00m\n\u001b[0;32m    181\u001b[0m     emit_warning()\n\u001b[1;32m--> 182\u001b[0m \u001b[38;5;28;01mreturn\u001b[39;00m wrapped(\u001b[38;5;241m*\u001b[39margs, \u001b[38;5;241m*\u001b[39m\u001b[38;5;241m*\u001b[39mkwargs)\n",
      "File \u001b[1;32mc:\\Users\\edwar\\anaconda3\\envs\\py_gpu\\lib\\site-packages\\langchain\\chains\\base.py:389\u001b[0m, in \u001b[0;36mChain.__call__\u001b[1;34m(self, inputs, return_only_outputs, callbacks, tags, metadata, run_name, include_run_info)\u001b[0m\n\u001b[0;32m    357\u001b[0m \u001b[38;5;250m\u001b[39m\u001b[38;5;124;03m\"\"\"Execute the chain.\u001b[39;00m\n\u001b[0;32m    358\u001b[0m \n\u001b[0;32m    359\u001b[0m \u001b[38;5;124;03mArgs:\u001b[39;00m\n\u001b[1;32m   (...)\u001b[0m\n\u001b[0;32m    380\u001b[0m \u001b[38;5;124;03m        `Chain.output_keys`.\u001b[39;00m\n\u001b[0;32m    381\u001b[0m \u001b[38;5;124;03m\"\"\"\u001b[39;00m\n\u001b[0;32m    382\u001b[0m config \u001b[38;5;241m=\u001b[39m {\n\u001b[0;32m    383\u001b[0m     \u001b[38;5;124m\"\u001b[39m\u001b[38;5;124mcallbacks\u001b[39m\u001b[38;5;124m\"\u001b[39m: callbacks,\n\u001b[0;32m    384\u001b[0m     \u001b[38;5;124m\"\u001b[39m\u001b[38;5;124mtags\u001b[39m\u001b[38;5;124m\"\u001b[39m: tags,\n\u001b[0;32m    385\u001b[0m     \u001b[38;5;124m\"\u001b[39m\u001b[38;5;124mmetadata\u001b[39m\u001b[38;5;124m\"\u001b[39m: metadata,\n\u001b[0;32m    386\u001b[0m     \u001b[38;5;124m\"\u001b[39m\u001b[38;5;124mrun_name\u001b[39m\u001b[38;5;124m\"\u001b[39m: run_name,\n\u001b[0;32m    387\u001b[0m }\n\u001b[1;32m--> 389\u001b[0m \u001b[38;5;28;01mreturn\u001b[39;00m \u001b[38;5;28;43mself\u001b[39;49m\u001b[38;5;241;43m.\u001b[39;49m\u001b[43minvoke\u001b[49m\u001b[43m(\u001b[49m\n\u001b[0;32m    390\u001b[0m \u001b[43m    \u001b[49m\u001b[43minputs\u001b[49m\u001b[43m,\u001b[49m\n\u001b[0;32m    391\u001b[0m \u001b[43m    \u001b[49m\u001b[43mcast\u001b[49m\u001b[43m(\u001b[49m\u001b[43mRunnableConfig\u001b[49m\u001b[43m,\u001b[49m\u001b[43m \u001b[49m\u001b[43m{\u001b[49m\u001b[43mk\u001b[49m\u001b[43m:\u001b[49m\u001b[43m \u001b[49m\u001b[43mv\u001b[49m\u001b[43m \u001b[49m\u001b[38;5;28;43;01mfor\u001b[39;49;00m\u001b[43m \u001b[49m\u001b[43mk\u001b[49m\u001b[43m,\u001b[49m\u001b[43m \u001b[49m\u001b[43mv\u001b[49m\u001b[43m \u001b[49m\u001b[38;5;129;43;01min\u001b[39;49;00m\u001b[43m \u001b[49m\u001b[43mconfig\u001b[49m\u001b[38;5;241;43m.\u001b[39;49m\u001b[43mitems\u001b[49m\u001b[43m(\u001b[49m\u001b[43m)\u001b[49m\u001b[43m \u001b[49m\u001b[38;5;28;43;01mif\u001b[39;49;00m\u001b[43m \u001b[49m\u001b[43mv\u001b[49m\u001b[43m \u001b[49m\u001b[38;5;129;43;01mis\u001b[39;49;00m\u001b[43m \u001b[49m\u001b[38;5;129;43;01mnot\u001b[39;49;00m\u001b[43m \u001b[49m\u001b[38;5;28;43;01mNone\u001b[39;49;00m\u001b[43m}\u001b[49m\u001b[43m)\u001b[49m\u001b[43m,\u001b[49m\n\u001b[0;32m    392\u001b[0m \u001b[43m    \u001b[49m\u001b[43mreturn_only_outputs\u001b[49m\u001b[38;5;241;43m=\u001b[39;49m\u001b[43mreturn_only_outputs\u001b[49m\u001b[43m,\u001b[49m\n\u001b[0;32m    393\u001b[0m \u001b[43m    \u001b[49m\u001b[43minclude_run_info\u001b[49m\u001b[38;5;241;43m=\u001b[39;49m\u001b[43minclude_run_info\u001b[49m\u001b[43m,\u001b[49m\n\u001b[0;32m    394\u001b[0m \u001b[43m\u001b[49m\u001b[43m)\u001b[49m\n",
      "File \u001b[1;32mc:\\Users\\edwar\\anaconda3\\envs\\py_gpu\\lib\\site-packages\\langchain\\chains\\base.py:170\u001b[0m, in \u001b[0;36mChain.invoke\u001b[1;34m(self, input, config, **kwargs)\u001b[0m\n\u001b[0;32m    168\u001b[0m \u001b[38;5;28;01mexcept\u001b[39;00m \u001b[38;5;167;01mBaseException\u001b[39;00m \u001b[38;5;28;01mas\u001b[39;00m e:\n\u001b[0;32m    169\u001b[0m     run_manager\u001b[38;5;241m.\u001b[39mon_chain_error(e)\n\u001b[1;32m--> 170\u001b[0m     \u001b[38;5;28;01mraise\u001b[39;00m e\n\u001b[0;32m    171\u001b[0m run_manager\u001b[38;5;241m.\u001b[39mon_chain_end(outputs)\n\u001b[0;32m    173\u001b[0m \u001b[38;5;28;01mif\u001b[39;00m include_run_info:\n",
      "File \u001b[1;32mc:\\Users\\edwar\\anaconda3\\envs\\py_gpu\\lib\\site-packages\\langchain\\chains\\base.py:160\u001b[0m, in \u001b[0;36mChain.invoke\u001b[1;34m(self, input, config, **kwargs)\u001b[0m\n\u001b[0;32m    157\u001b[0m \u001b[38;5;28;01mtry\u001b[39;00m:\n\u001b[0;32m    158\u001b[0m     \u001b[38;5;28mself\u001b[39m\u001b[38;5;241m.\u001b[39m_validate_inputs(inputs)\n\u001b[0;32m    159\u001b[0m     outputs \u001b[38;5;241m=\u001b[39m (\n\u001b[1;32m--> 160\u001b[0m         \u001b[38;5;28;43mself\u001b[39;49m\u001b[38;5;241;43m.\u001b[39;49m\u001b[43m_call\u001b[49m\u001b[43m(\u001b[49m\u001b[43minputs\u001b[49m\u001b[43m,\u001b[49m\u001b[43m \u001b[49m\u001b[43mrun_manager\u001b[49m\u001b[38;5;241;43m=\u001b[39;49m\u001b[43mrun_manager\u001b[49m\u001b[43m)\u001b[49m\n\u001b[0;32m    161\u001b[0m         \u001b[38;5;28;01mif\u001b[39;00m new_arg_supported\n\u001b[0;32m    162\u001b[0m         \u001b[38;5;28;01melse\u001b[39;00m \u001b[38;5;28mself\u001b[39m\u001b[38;5;241m.\u001b[39m_call(inputs)\n\u001b[0;32m    163\u001b[0m     )\n\u001b[0;32m    165\u001b[0m     final_outputs: Dict[\u001b[38;5;28mstr\u001b[39m, Any] \u001b[38;5;241m=\u001b[39m \u001b[38;5;28mself\u001b[39m\u001b[38;5;241m.\u001b[39mprep_outputs(\n\u001b[0;32m    166\u001b[0m         inputs, outputs, return_only_outputs\n\u001b[0;32m    167\u001b[0m     )\n\u001b[0;32m    168\u001b[0m \u001b[38;5;28;01mexcept\u001b[39;00m \u001b[38;5;167;01mBaseException\u001b[39;00m \u001b[38;5;28;01mas\u001b[39;00m e:\n",
      "File \u001b[1;32mc:\\Users\\edwar\\anaconda3\\envs\\py_gpu\\lib\\site-packages\\langchain\\chains\\router\\base.py:106\u001b[0m, in \u001b[0;36mMultiRouteChain._call\u001b[1;34m(self, inputs, run_manager)\u001b[0m\n\u001b[0;32m    104\u001b[0m     \u001b[38;5;28;01mreturn\u001b[39;00m \u001b[38;5;28mself\u001b[39m\u001b[38;5;241m.\u001b[39mdefault_chain(route\u001b[38;5;241m.\u001b[39mnext_inputs, callbacks\u001b[38;5;241m=\u001b[39mcallbacks)\n\u001b[0;32m    105\u001b[0m \u001b[38;5;28;01melse\u001b[39;00m:\n\u001b[1;32m--> 106\u001b[0m     \u001b[38;5;28;01mraise\u001b[39;00m \u001b[38;5;167;01mValueError\u001b[39;00m(\n\u001b[0;32m    107\u001b[0m         \u001b[38;5;124mf\u001b[39m\u001b[38;5;124m\"\u001b[39m\u001b[38;5;124mReceived invalid destination chain name \u001b[39m\u001b[38;5;124m'\u001b[39m\u001b[38;5;132;01m{\u001b[39;00mroute\u001b[38;5;241m.\u001b[39mdestination\u001b[38;5;132;01m}\u001b[39;00m\u001b[38;5;124m'\u001b[39m\u001b[38;5;124m\"\u001b[39m\n\u001b[0;32m    108\u001b[0m     )\n",
      "\u001b[1;31mValueError\u001b[0m: Received invalid destination chain name 'biology'"
     ]
    }
   ],
   "source": [
    "chain.run(\"Why does every cell in our body contain DNA?\")"
   ]
  },
  {
   "cell_type": "markdown",
   "id": "09e0c60b-7ae0-453e-9467-142d8dafee6e",
   "metadata": {},
   "source": [
    "**Repeat the above at least once for different inputs and chains executions - Be creative!**"
   ]
  },
  {
   "cell_type": "code",
   "execution_count": 68,
   "id": "30d608a5",
   "metadata": {},
   "outputs": [
    {
     "name": "stdout",
     "output_type": "stream",
     "text": [
      "Academic Questions Test:\n",
      "--------------------------------------------------\n",
      "\n",
      "Question: How does quantum entanglement work?\n",
      "\n",
      "\n",
      "\u001b[1m> Entering new MultiPromptChain chain...\u001b[0m\n",
      "physics: {'input': 'How does quantum entanglement work?'}\n",
      "\u001b[1m> Finished chain.\u001b[0m\n",
      "Quantum entanglement is a phenomenon where two or more particles become connected in such a way that the state of one particle is directly related to the state of the other, regardless of the distance between them. This means that measuring the state of one particle instantly determines the state of the other, even if they are light-years apart.\n",
      "\n",
      "The exact mechanism behind quantum entanglement is still not fully understood, but it is believed to involve a non-local connection between the particles that allows them to share information instantaneously. This phenomenon is a key aspect of quantum mechanics and has been experimentally verified through various tests and experiments.\n",
      "\n",
      "In summary, quantum entanglement is a mysterious and fascinating aspect of quantum physics that challenges our classical understanding of reality.\n",
      "--------------------------------------------------\n",
      "\n",
      "Question: Explain the concept of derivatives in calculus\n",
      "\n",
      "\n",
      "\u001b[1m> Entering new MultiPromptChain chain...\u001b[0m\n",
      "math: {'input': 'Explain the concept of derivatives in calculus'}\n",
      "\u001b[1m> Finished chain.\u001b[0m\n",
      "In calculus, a derivative is a measure of how a function changes as its input changes. It represents the rate of change of a function at a specific point. \n",
      "\n",
      "To find the derivative of a function, we use the concept of limits. We calculate the slope of the tangent line to the function at a specific point, which gives us the instantaneous rate of change of the function at that point. \n",
      "\n",
      "The derivative of a function can also be interpreted as the function's rate of change over time. For example, if we have a function that represents the position of an object over time, its derivative would give us the object's velocity at any given moment.\n",
      "\n",
      "Derivatives are fundamental in calculus as they allow us to analyze the behavior of functions, find maximum and minimum points, and solve optimization problems. They are also used in various fields such as physics, engineering, economics, and biology to model and understand real-world phenomena.\n",
      "--------------------------------------------------\n",
      "\n",
      "Question: What were the main causes of World War I?\n",
      "\n",
      "\n",
      "\u001b[1m> Entering new MultiPromptChain chain...\u001b[0m\n",
      "History: {'input': 'What were the main causes of World War I?'}\n",
      "\u001b[1m> Finished chain.\u001b[0m\n",
      "There were several main causes of World War I, including:\n",
      "\n",
      "1. Nationalism: The intense pride and loyalty to one's own nation led to competition and conflict between countries, particularly in Europe.\n",
      "\n",
      "2. Imperialism: The desire for colonies and resources fueled competition between European powers, leading to tensions and rivalries.\n",
      "\n",
      "3. Militarism: The buildup of military forces and arms race between countries created a sense of insecurity and fear, ultimately contributing to the outbreak of war.\n",
      "\n",
      "4. Alliances: The complex system of alliances between European powers meant that a conflict between two countries could quickly escalate into a larger war involving multiple nations.\n",
      "\n",
      "5. Assassination of Archduke Franz Ferdinand: The assassination of the heir to the Austro-Hungarian throne in Sarajevo in 1914 was the immediate trigger for the outbreak of World War I, as it led to a chain of events that culminated in the declaration of war by multiple countries.\n",
      "\n",
      "Overall, a combination of these factors, along with long-standing tensions and rivalries between European powers, ultimately led to the outbreak of World War I in 1914.\n",
      "--------------------------------------------------\n",
      "\n",
      "Question: How does a neural network learn?\n",
      "\n",
      "\n",
      "\u001b[1m> Entering new MultiPromptChain chain...\u001b[0m\n",
      "computer science: {'input': 'How does a neural network learn?'}\n",
      "\u001b[1m> Finished chain.\u001b[0m\n",
      "A neural network learns through a process called training, where it is fed a large amount of data and adjusts its weights and biases based on the errors it makes in predicting the correct output. \n",
      "\n",
      "During training, the neural network uses an algorithm called backpropagation to calculate the error between its predicted output and the actual output, and then adjusts its weights and biases to minimize this error. This process is repeated multiple times until the neural network is able to accurately predict the correct output for a given input.\n",
      "\n",
      "The neural network learns by updating its weights and biases based on the errors it makes during training, gradually improving its ability to make accurate predictions. This process allows the neural network to learn complex patterns and relationships in the data, ultimately improving its performance on new, unseen data.\n",
      "--------------------------------------------------\n"
     ]
    }
   ],
   "source": [
    "# Example 1: Testing different academic questions\n",
    "academic_questions = [\n",
    "    \"How does quantum entanglement work?\",  # Physics\n",
    "    \"Explain the concept of derivatives in calculus\",  # Math\n",
    "    \"What were the main causes of World War I?\",  # History\n",
    "    \"How does a neural network learn?\",  # Computer Science\n",
    "]\n",
    "\n",
    "print(\"Academic Questions Test:\")\n",
    "print(\"-\" * 50)\n",
    "for question in academic_questions:\n",
    "    print(f\"\\nQuestion: {question}\")\n",
    "    print(chain.run(question))\n",
    "    print(\"-\" * 50)"
   ]
  },
  {
   "cell_type": "code",
   "execution_count": 72,
   "id": "150d66e1",
   "metadata": {},
   "outputs": [
    {
     "name": "stdout",
     "output_type": "stream",
     "text": [
      "\n",
      "Interdisciplinary Questions Test:\n",
      "--------------------------------------------------\n",
      "\n",
      "Question: How is calculus used in physics to describe motion?\n",
      "\n",
      "\n",
      "\u001b[1m> Entering new MultiPromptChain chain...\u001b[0m\n",
      "physics: {'input': 'How is calculus used in physics to describe motion?'}\n",
      "\u001b[1m> Finished chain.\u001b[0m\n",
      "Calculus is used in physics to describe motion by analyzing the relationships between position, velocity, and acceleration. By taking derivatives and integrals of these quantities with respect to time, we can determine how an object's motion changes over time. For example, the derivative of position gives us velocity, and the derivative of velocity gives us acceleration. Integrating acceleration gives us velocity, and integrating velocity gives us position. This allows us to accurately describe and predict the motion of objects in the physical world.\n",
      "--------------------------------------------------\n",
      "\n",
      "Question: How did the invention of computers impact historical research?\n",
      "\n",
      "\n",
      "\u001b[1m> Entering new MultiPromptChain chain...\u001b[0m\n",
      "History: {'input': 'How did the invention of computers impact historical research?'}\n",
      "\u001b[1m> Finished chain.\u001b[0m\n",
      "The invention of computers has had a significant impact on historical research in a number of ways. \n",
      "\n",
      "Firstly, computers have greatly facilitated the storage and organization of historical data. Historians can now access vast amounts of information quickly and easily, allowing for more comprehensive and in-depth research. Digitization of historical documents and archives has also made it easier for researchers to access primary sources from around the world.\n",
      "\n",
      "Secondly, computers have revolutionized the process of data analysis and interpretation. Historians can now use advanced software and algorithms to analyze large datasets, identify patterns and trends, and draw new insights from historical information. This has allowed for more sophisticated and nuanced historical interpretations.\n",
      "\n",
      "Additionally, the internet has made it easier for historians to collaborate and share their research with colleagues around the world. Online databases, forums, and digital archives have made it possible for historians to work together on projects, share resources, and engage in discussions about their research.\n",
      "\n",
      "Overall, the invention of computers has greatly enhanced the practice of historical research, making it more efficient, accessible, and collaborative.\n",
      "--------------------------------------------------\n",
      "\n",
      "Question: How are algorithms used to analyze historical data?\n",
      "\n",
      "\n",
      "\u001b[1m> Entering new MultiPromptChain chain...\u001b[0m\n",
      "computer science: {'input': 'How are algorithms used to analyze historical data?'}\n",
      "\u001b[1m> Finished chain.\u001b[0m\n",
      "Algorithms are used to analyze historical data by processing and interpreting large sets of data to identify patterns, trends, and insights. This can help in making predictions, optimizing processes, and making informed decisions based on past data. \n",
      "\n",
      "Some common algorithms used in analyzing historical data include:\n",
      "\n",
      "1. Regression analysis: This algorithm is used to analyze the relationship between variables and predict future outcomes based on historical data.\n",
      "\n",
      "2. Time series analysis: This algorithm is used to analyze data points collected at regular intervals over time to identify patterns and trends.\n",
      "\n",
      "3. Clustering algorithms: These algorithms are used to group similar data points together based on certain characteristics, helping to identify patterns and relationships within the data.\n",
      "\n",
      "4. Classification algorithms: These algorithms are used to categorize data into different classes or groups based on certain features, helping to make predictions or identify trends.\n",
      "\n",
      "Overall, algorithms play a crucial role in analyzing historical data by providing valuable insights and helping to make data-driven decisions.\n",
      "--------------------------------------------------\n",
      "\n",
      "Question: What mathematical principles are used in modern cryptography?\n",
      "\n",
      "\n",
      "\u001b[1m> Entering new MultiPromptChain chain...\u001b[0m\n",
      "math: {'input': 'What mathematical principles are used in modern cryptography?'}\n",
      "\u001b[1m> Finished chain.\u001b[0m\n",
      "Modern cryptography relies on a variety of mathematical principles to ensure secure communication and data protection. Some of the key mathematical principles used in modern cryptography include:\n",
      "\n",
      "1. Number theory: Number theory plays a crucial role in cryptography, particularly in the field of public key cryptography. Concepts such as prime numbers, modular arithmetic, and the discrete logarithm problem are used to create secure encryption algorithms.\n",
      "\n",
      "2. Algebraic structures: Algebraic structures such as groups, rings, and fields are used in the design and analysis of cryptographic algorithms. For example, the RSA encryption algorithm is based on the properties of modular arithmetic in the ring of integers modulo a composite number.\n",
      "\n",
      "3. Probability theory: Probability theory is used in cryptographic protocols to ensure randomness and unpredictability. Random number generation and key generation algorithms rely on probabilistic models to ensure security.\n",
      "\n",
      "4. Computational complexity theory: Computational complexity theory is used to analyze the security of cryptographic algorithms and protocols. Concepts such as hardness assumptions, computational hardness, and complexity classes are used to evaluate the strength of cryptographic schemes.\n",
      "\n",
      "5. Cryptographic hash functions: Cryptographic hash functions are mathematical algorithms that map input data to a fixed-size output, known as a hash value. Hash functions are used in digital signatures, message authentication codes, and password hashing to ensure data integrity and confidentiality.\n",
      "\n",
      "Overall, modern cryptography is a multidisciplinary field that combines principles from mathematics, computer science, and information theory to protect sensitive information and secure communication channels.\n",
      "--------------------------------------------------\n"
     ]
    }
   ],
   "source": [
    "# Example 2: Testing interdisciplinary questions\n",
    "interdisciplinary_questions = [\n",
    "    \"How is calculus used in physics to describe motion?\",  # Math + Physics\n",
    "    \"How did the invention of computers impact historical research?\",  # Computer Science + History\n",
    "    \"How are algorithms used to analyze historical data?\",  # Computer Science + History\n",
    "    \"What mathematical principles are used in modern cryptography?\",  # Math + Computer Science\n",
    "]\n",
    "\n",
    "print(\"\\nInterdisciplinary Questions Test:\")\n",
    "print(\"-\" * 50)\n",
    "for question in interdisciplinary_questions:\n",
    "    print(f\"\\nQuestion: {question}\")\n",
    "    print(chain.run(question))\n",
    "    print(\"-\" * 50)\n",
    "\n"
   ]
  },
  {
   "cell_type": "code",
   "execution_count": 74,
   "id": "3395cefd",
   "metadata": {},
   "outputs": [
    {
     "name": "stdout",
     "output_type": "stream",
     "text": [
      "\n",
      "Real-world Application Questions Test:\n",
      "--------------------------------------------------\n",
      "\n",
      "Question: How do self-driving cars use physics principles?\n",
      "\n",
      "\n",
      "\u001b[1m> Entering new MultiPromptChain chain...\u001b[0m\n",
      "physics: {'input': 'How do self-driving cars use physics principles?'}\n",
      "\u001b[1m> Finished chain.\u001b[0m\n",
      "Self-driving cars use physics principles in a variety of ways to navigate and operate safely. Some key ways include:\n",
      "\n",
      "1. Sensors and cameras on the car detect the car's surroundings and use principles of optics and electromagnetic waves to interpret and react to the environment.\n",
      "\n",
      "2. The car's computer system uses principles of mechanics and kinematics to calculate the best path and speed to reach its destination while avoiding obstacles.\n",
      "\n",
      "3. The car's control systems use principles of dynamics and control theory to adjust steering, acceleration, and braking to maintain stability and control.\n",
      "\n",
      "Overall, self-driving cars rely on a combination of physics principles to operate autonomously and safely on the road.\n",
      "--------------------------------------------------\n",
      "\n",
      "Question: How is probability used in weather forecasting?\n",
      "\n",
      "\n",
      "\u001b[1m> Entering new MultiPromptChain chain...\u001b[0m\n",
      "physics: {'input': 'How is probability used in weather forecasting?'}\n",
      "\u001b[1m> Finished chain.\u001b[0m\n",
      "Probability is used in weather forecasting to predict the likelihood of certain weather events occurring. Meteorologists use historical data, current weather conditions, and computer models to calculate the probability of different weather outcomes. For example, they may say there is a 70% chance of rain tomorrow based on their analysis of the data. This helps people make informed decisions about how to prepare for the weather and plan their activities.\n",
      "--------------------------------------------------\n",
      "\n",
      "Question: How did the development of the internet change modern warfare?\n",
      "\n",
      "\n",
      "\u001b[1m> Entering new MultiPromptChain chain...\u001b[0m\n",
      "History: {'input': 'How did the development of the internet change modern warfare?'}\n",
      "\u001b[1m> Finished chain.\u001b[0m\n",
      "The development of the internet has had a significant impact on modern warfare in several ways. \n",
      "\n",
      "Firstly, the internet has revolutionized communication and information sharing in the military. Commanders can now communicate with troops in real-time, coordinate operations more efficiently, and access a wealth of information instantly. This has greatly improved the speed and effectiveness of military decision-making.\n",
      "\n",
      "Secondly, the internet has also changed the nature of warfare itself. Cyber warfare has become a new battleground, with countries using cyber attacks to disrupt enemy communications, sabotage infrastructure, and steal sensitive information. The internet has made it easier for countries to launch these attacks, as they can be carried out remotely and anonymously.\n",
      "\n",
      "Additionally, the internet has also changed the way wars are fought on the ground. With the rise of social media and online propaganda, information warfare has become a key component of modern conflicts. Countries can now use the internet to spread disinformation, manipulate public opinion, and recruit supporters for their cause.\n",
      "\n",
      "Overall, the development of the internet has transformed modern warfare by enhancing communication and information sharing, creating new battlegrounds in cyberspace, and changing the way wars are fought on the ground.\n",
      "--------------------------------------------------\n",
      "\n",
      "Question: How does blockchain technology work?\n",
      "\n",
      "\n",
      "\u001b[1m> Entering new MultiPromptChain chain...\u001b[0m\n",
      "computer science: {'input': 'How does blockchain technology work?'}\n",
      "\u001b[1m> Finished chain.\u001b[0m\n",
      "Blockchain technology works by creating a decentralized and secure digital ledger of transactions. Each transaction is recorded in a block, which is then linked to the previous block, forming a chain of blocks. \n",
      "\n",
      "When a new transaction is initiated, it is verified by a network of computers (nodes) through a process called consensus. Once verified, the transaction is added to a block and the block is added to the blockchain. \n",
      "\n",
      "The blockchain is maintained by a network of nodes, each of which has a copy of the entire blockchain. This ensures that the information on the blockchain is secure and cannot be altered without the consensus of the majority of nodes. \n",
      "\n",
      "Blockchain technology uses cryptographic techniques to secure the data on the blockchain, making it tamper-proof and transparent. This makes blockchain technology ideal for applications such as cryptocurrency transactions, supply chain management, and voting systems.\n",
      "--------------------------------------------------\n",
      "\n",
      "Question: What is cancer?\n",
      "\n",
      "\n",
      "\u001b[1m> Entering new MultiPromptChain chain...\u001b[0m\n",
      "None: {'input': 'What is cancer?'}\n",
      "\u001b[1m> Finished chain.\u001b[0m\n",
      "Cancer is a group of diseases characterized by the uncontrolled growth and spread of abnormal cells in the body. These abnormal cells can form tumors, invade nearby tissues, and spread to other parts of the body through the bloodstream or lymphatic system. There are over 100 different types of cancer, each with its own set of symptoms, risk factors, and treatment options. Some common types of cancer include breast cancer, lung cancer, prostate cancer, and colorectal cancer.\n",
      "--------------------------------------------------\n"
     ]
    }
   ],
   "source": [
    "# Example 3: Testing real-world application questions\n",
    "application_questions = [\n",
    "    \"How do self-driving cars use physics principles?\",  # Physics\n",
    "    \"How is probability used in weather forecasting?\",  # Math\n",
    "    \"How did the development of the internet change modern warfare?\",  # History\n",
    "    \"How does blockchain technology work?\",  # Computer Science\n",
    "    \"What is cancer?\"\n",
    "]\n",
    "\n",
    "print(\"\\nReal-world Application Questions Test:\")\n",
    "print(\"-\" * 50)\n",
    "for question in application_questions:\n",
    "    print(f\"\\nQuestion: {question}\")\n",
    "    print(chain.run(question))\n",
    "    print(\"-\" * 50)"
   ]
  }
 ],
 "metadata": {
  "kernelspec": {
   "display_name": "Python 3 (ipykernel)",
   "language": "python",
   "name": "python3"
  },
  "language_info": {
   "codemirror_mode": {
    "name": "ipython",
    "version": 3
   },
   "file_extension": ".py",
   "mimetype": "text/x-python",
   "name": "python",
   "nbconvert_exporter": "python",
   "pygments_lexer": "ipython3",
   "version": "3.9.18"
  }
 },
 "nbformat": 4,
 "nbformat_minor": 5
}
